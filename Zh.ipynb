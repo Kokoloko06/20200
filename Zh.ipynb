{
    "metadata": {
        "kernelspec": {
            "name": "SQL",
            "display_name": "SQL",
            "language": "sql"
        },
        "language_info": {
            "name": "sql",
            "version": ""
        }
    },
    "nbformat_minor": 2,
    "nbformat": 4,
    "cells": [
        {
            "cell_type": "code",
            "source": [
                "SELECT SZOBA_FK, COUNT(SZOBA_FK)as 'Foglalások száma'\r\n",
                "FROM Foglalas\r\n",
                "WHERE FELNOTT_SZAM > GYERMEK_SZAM\r\n",
                "Group by SZOBA_FK\r\n",
                "HAVING COUNT(SZOBA_FK)>= 2\r\n",
                "ORDER BY COUNT(SZOBA_FK) ASC\r\n",
                ""
            ],
            "metadata": {
                "azdata_cell_guid": "90006567-c0e6-48c3-9ed8-50921ca0f947",
                "language": "sql"
            },
            "outputs": [],
            "execution_count": null
        },
        {
            "cell_type": "code",
            "source": [
                "SELECT COUNT(f.FOGLALAS_PK) as 'Foglalások száma',\r\n",
                "    CASE WHEN YEAR(v.SZUL_DAT) >= 1985 then 'fiatal'\r\n",
                "            WHEN YEAR(v.SZUL_DAT)< 1970 then 'idős'\r\n",
                "            ELSE 'közepkorú'\r\n",
                "            END as 'Kategóriák'\r\n",
                "FROM VENDEG v JOIN Foglalas f ON v.USERNEV = f.UGYFEL_FK\r\n",
                "WHERE f.FELNOTT_SZAM + GYERMEK_SZAM >= 2\r\n",
                "GROUP BY  CASE WHEN YEAR(v.SZUL_DAT) >= 1985 then 'fiatal'\r\n",
                "            WHEN YEAR(v.SZUL_DAT)< 1970 then 'idős'\r\n",
                "            ELSE 'közepkorú'\r\n",
                "            END\r\n",
                ""
            ],
            "metadata": {
                "azdata_cell_guid": "18b2ee44-52c4-4e27-8242-69ab3321b9b7",
                "language": "sql",
                "tags": []
            },
            "outputs": [
                {
                    "output_type": "display_data",
                    "data": {
                        "text/html": "(3 rows affected)"
                    },
                    "metadata": {}
                },
                {
                    "output_type": "display_data",
                    "data": {
                        "text/html": "Total execution time: 00:00:00.015"
                    },
                    "metadata": {}
                },
                {
                    "output_type": "execute_result",
                    "execution_count": 13,
                    "data": {
                        "application/vnd.dataresource+json": {
                            "schema": {
                                "fields": [
                                    {
                                        "name": "Foglalások száma"
                                    },
                                    {
                                        "name": "Kategóriák"
                                    }
                                ]
                            },
                            "data": [
                                {
                                    "Foglalások száma": "365",
                                    "Kategóriák": "fiatal"
                                },
                                {
                                    "Foglalások száma": "96",
                                    "Kategóriák": "idős"
                                },
                                {
                                    "Foglalások száma": "419",
                                    "Kategóriák": "közepkorú"
                                }
                            ]
                        },
                        "text/html": "<table><tr><th>Foglalások száma</th><th>Kategóriák</th></tr><tr><td>365</td><td>fiatal</td></tr><tr><td>96</td><td>idős</td></tr><tr><td>419</td><td>közepkorú</td></tr></table>"
                    },
                    "metadata": {}
                }
            ],
            "execution_count": 13
        }
    ]
}